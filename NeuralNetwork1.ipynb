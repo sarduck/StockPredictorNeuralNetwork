{
 "cells": [
  {
   "cell_type": "code",
   "execution_count": 1,
   "id": "4ddf6da5",
   "metadata": {},
   "outputs": [],
   "source": [
    "import pandas as pd\n",
    "import datetime\n",
    "import matplotlib.pyplot as plt\n",
    "import numpy as np\n",
    "import yfinance as yf"
   ]
  },
  {
   "cell_type": "code",
   "execution_count": 2,
   "id": "2f58e5e8",
   "metadata": {},
   "outputs": [
    {
     "name": "stdout",
     "output_type": "stream",
     "text": [
      "[*********************100%***********************]  1 of 1 completed\n"
     ]
    }
   ],
   "source": [
    "MSFT_data = yf.download(\"MSFT\", start=\"1986-03-13\", end=\"2022-03-24\")\n",
    "MSFT_df = pd.DataFrame(MSFT_data)\n",
    "MSFT_df.to_csv(\"MSFT_data.csv\")"
   ]
  },
  {
   "cell_type": "code",
   "execution_count": 3,
   "id": "e8346005",
   "metadata": {},
   "outputs": [
    {
     "data": {
      "text/html": [
       "<div>\n",
       "<style scoped>\n",
       "    .dataframe tbody tr th:only-of-type {\n",
       "        vertical-align: middle;\n",
       "    }\n",
       "\n",
       "    .dataframe tbody tr th {\n",
       "        vertical-align: top;\n",
       "    }\n",
       "\n",
       "    .dataframe thead th {\n",
       "        text-align: right;\n",
       "    }\n",
       "</style>\n",
       "<table border=\"1\" class=\"dataframe\">\n",
       "  <thead>\n",
       "    <tr style=\"text-align: right;\">\n",
       "      <th></th>\n",
       "      <th>Date</th>\n",
       "      <th>Open</th>\n",
       "      <th>High</th>\n",
       "      <th>Low</th>\n",
       "      <th>Close</th>\n",
       "      <th>Adj Close</th>\n",
       "      <th>Volume</th>\n",
       "    </tr>\n",
       "  </thead>\n",
       "  <tbody>\n",
       "    <tr>\n",
       "      <th>0</th>\n",
       "      <td>1986-03-13</td>\n",
       "      <td>0.088542</td>\n",
       "      <td>0.101563</td>\n",
       "      <td>0.088542</td>\n",
       "      <td>0.097222</td>\n",
       "      <td>0.060657</td>\n",
       "      <td>1031788800</td>\n",
       "    </tr>\n",
       "    <tr>\n",
       "      <th>1</th>\n",
       "      <td>1986-03-14</td>\n",
       "      <td>0.097222</td>\n",
       "      <td>0.102431</td>\n",
       "      <td>0.097222</td>\n",
       "      <td>0.100694</td>\n",
       "      <td>0.062823</td>\n",
       "      <td>308160000</td>\n",
       "    </tr>\n",
       "    <tr>\n",
       "      <th>2</th>\n",
       "      <td>1986-03-17</td>\n",
       "      <td>0.100694</td>\n",
       "      <td>0.103299</td>\n",
       "      <td>0.100694</td>\n",
       "      <td>0.102431</td>\n",
       "      <td>0.063907</td>\n",
       "      <td>133171200</td>\n",
       "    </tr>\n",
       "    <tr>\n",
       "      <th>3</th>\n",
       "      <td>1986-03-18</td>\n",
       "      <td>0.102431</td>\n",
       "      <td>0.103299</td>\n",
       "      <td>0.098958</td>\n",
       "      <td>0.099826</td>\n",
       "      <td>0.062281</td>\n",
       "      <td>67766400</td>\n",
       "    </tr>\n",
       "    <tr>\n",
       "      <th>4</th>\n",
       "      <td>1986-03-19</td>\n",
       "      <td>0.099826</td>\n",
       "      <td>0.100694</td>\n",
       "      <td>0.097222</td>\n",
       "      <td>0.098090</td>\n",
       "      <td>0.061198</td>\n",
       "      <td>47894400</td>\n",
       "    </tr>\n",
       "    <tr>\n",
       "      <th>...</th>\n",
       "      <td>...</td>\n",
       "      <td>...</td>\n",
       "      <td>...</td>\n",
       "      <td>...</td>\n",
       "      <td>...</td>\n",
       "      <td>...</td>\n",
       "      <td>...</td>\n",
       "    </tr>\n",
       "    <tr>\n",
       "      <th>9077</th>\n",
       "      <td>2022-03-17</td>\n",
       "      <td>293.290009</td>\n",
       "      <td>295.609985</td>\n",
       "      <td>289.369995</td>\n",
       "      <td>295.220001</td>\n",
       "      <td>292.351959</td>\n",
       "      <td>30816600</td>\n",
       "    </tr>\n",
       "    <tr>\n",
       "      <th>9078</th>\n",
       "      <td>2022-03-18</td>\n",
       "      <td>295.369995</td>\n",
       "      <td>301.000000</td>\n",
       "      <td>292.730011</td>\n",
       "      <td>300.429993</td>\n",
       "      <td>297.511292</td>\n",
       "      <td>43390600</td>\n",
       "    </tr>\n",
       "    <tr>\n",
       "      <th>9079</th>\n",
       "      <td>2022-03-21</td>\n",
       "      <td>298.890015</td>\n",
       "      <td>300.140015</td>\n",
       "      <td>294.899994</td>\n",
       "      <td>299.160004</td>\n",
       "      <td>296.253662</td>\n",
       "      <td>28351200</td>\n",
       "    </tr>\n",
       "    <tr>\n",
       "      <th>9080</th>\n",
       "      <td>2022-03-22</td>\n",
       "      <td>299.799988</td>\n",
       "      <td>305.000000</td>\n",
       "      <td>298.769989</td>\n",
       "      <td>304.059998</td>\n",
       "      <td>301.106049</td>\n",
       "      <td>27599700</td>\n",
       "    </tr>\n",
       "    <tr>\n",
       "      <th>9081</th>\n",
       "      <td>2022-03-23</td>\n",
       "      <td>300.510010</td>\n",
       "      <td>303.230011</td>\n",
       "      <td>297.720001</td>\n",
       "      <td>299.489990</td>\n",
       "      <td>296.580475</td>\n",
       "      <td>25715400</td>\n",
       "    </tr>\n",
       "  </tbody>\n",
       "</table>\n",
       "<p>9082 rows × 7 columns</p>\n",
       "</div>"
      ],
      "text/plain": [
       "            Date        Open        High         Low       Close   Adj Close  \\\n",
       "0     1986-03-13    0.088542    0.101563    0.088542    0.097222    0.060657   \n",
       "1     1986-03-14    0.097222    0.102431    0.097222    0.100694    0.062823   \n",
       "2     1986-03-17    0.100694    0.103299    0.100694    0.102431    0.063907   \n",
       "3     1986-03-18    0.102431    0.103299    0.098958    0.099826    0.062281   \n",
       "4     1986-03-19    0.099826    0.100694    0.097222    0.098090    0.061198   \n",
       "...          ...         ...         ...         ...         ...         ...   \n",
       "9077  2022-03-17  293.290009  295.609985  289.369995  295.220001  292.351959   \n",
       "9078  2022-03-18  295.369995  301.000000  292.730011  300.429993  297.511292   \n",
       "9079  2022-03-21  298.890015  300.140015  294.899994  299.160004  296.253662   \n",
       "9080  2022-03-22  299.799988  305.000000  298.769989  304.059998  301.106049   \n",
       "9081  2022-03-23  300.510010  303.230011  297.720001  299.489990  296.580475   \n",
       "\n",
       "          Volume  \n",
       "0     1031788800  \n",
       "1      308160000  \n",
       "2      133171200  \n",
       "3       67766400  \n",
       "4       47894400  \n",
       "...          ...  \n",
       "9077    30816600  \n",
       "9078    43390600  \n",
       "9079    28351200  \n",
       "9080    27599700  \n",
       "9081    25715400  \n",
       "\n",
       "[9082 rows x 7 columns]"
      ]
     },
     "execution_count": 3,
     "metadata": {},
     "output_type": "execute_result"
    }
   ],
   "source": [
    "df = pd.read_csv('MSFT_data.csv')\n",
    "\n",
    "df"
   ]
  },
  {
   "cell_type": "code",
   "execution_count": 4,
   "id": "73524390",
   "metadata": {},
   "outputs": [
    {
     "data": {
      "text/html": [
       "<div>\n",
       "<style scoped>\n",
       "    .dataframe tbody tr th:only-of-type {\n",
       "        vertical-align: middle;\n",
       "    }\n",
       "\n",
       "    .dataframe tbody tr th {\n",
       "        vertical-align: top;\n",
       "    }\n",
       "\n",
       "    .dataframe thead th {\n",
       "        text-align: right;\n",
       "    }\n",
       "</style>\n",
       "<table border=\"1\" class=\"dataframe\">\n",
       "  <thead>\n",
       "    <tr style=\"text-align: right;\">\n",
       "      <th></th>\n",
       "      <th>Date</th>\n",
       "      <th>Close</th>\n",
       "    </tr>\n",
       "  </thead>\n",
       "  <tbody>\n",
       "    <tr>\n",
       "      <th>0</th>\n",
       "      <td>1986-03-13</td>\n",
       "      <td>0.097222</td>\n",
       "    </tr>\n",
       "    <tr>\n",
       "      <th>1</th>\n",
       "      <td>1986-03-14</td>\n",
       "      <td>0.100694</td>\n",
       "    </tr>\n",
       "    <tr>\n",
       "      <th>2</th>\n",
       "      <td>1986-03-17</td>\n",
       "      <td>0.102431</td>\n",
       "    </tr>\n",
       "    <tr>\n",
       "      <th>3</th>\n",
       "      <td>1986-03-18</td>\n",
       "      <td>0.099826</td>\n",
       "    </tr>\n",
       "    <tr>\n",
       "      <th>4</th>\n",
       "      <td>1986-03-19</td>\n",
       "      <td>0.098090</td>\n",
       "    </tr>\n",
       "    <tr>\n",
       "      <th>...</th>\n",
       "      <td>...</td>\n",
       "      <td>...</td>\n",
       "    </tr>\n",
       "    <tr>\n",
       "      <th>9077</th>\n",
       "      <td>2022-03-17</td>\n",
       "      <td>295.220001</td>\n",
       "    </tr>\n",
       "    <tr>\n",
       "      <th>9078</th>\n",
       "      <td>2022-03-18</td>\n",
       "      <td>300.429993</td>\n",
       "    </tr>\n",
       "    <tr>\n",
       "      <th>9079</th>\n",
       "      <td>2022-03-21</td>\n",
       "      <td>299.160004</td>\n",
       "    </tr>\n",
       "    <tr>\n",
       "      <th>9080</th>\n",
       "      <td>2022-03-22</td>\n",
       "      <td>304.059998</td>\n",
       "    </tr>\n",
       "    <tr>\n",
       "      <th>9081</th>\n",
       "      <td>2022-03-23</td>\n",
       "      <td>299.489990</td>\n",
       "    </tr>\n",
       "  </tbody>\n",
       "</table>\n",
       "<p>9082 rows × 2 columns</p>\n",
       "</div>"
      ],
      "text/plain": [
       "            Date       Close\n",
       "0     1986-03-13    0.097222\n",
       "1     1986-03-14    0.100694\n",
       "2     1986-03-17    0.102431\n",
       "3     1986-03-18    0.099826\n",
       "4     1986-03-19    0.098090\n",
       "...          ...         ...\n",
       "9077  2022-03-17  295.220001\n",
       "9078  2022-03-18  300.429993\n",
       "9079  2022-03-21  299.160004\n",
       "9080  2022-03-22  304.059998\n",
       "9081  2022-03-23  299.489990\n",
       "\n",
       "[9082 rows x 2 columns]"
      ]
     },
     "execution_count": 4,
     "metadata": {},
     "output_type": "execute_result"
    }
   ],
   "source": [
    "df = df[['Date', 'Close']]\n",
    "\n",
    "df"
   ]
  },
  {
   "cell_type": "code",
   "execution_count": 5,
   "id": "e16fcd06",
   "metadata": {},
   "outputs": [
    {
     "data": {
      "text/plain": [
       "0       1986-03-13\n",
       "1       1986-03-14\n",
       "2       1986-03-17\n",
       "3       1986-03-18\n",
       "4       1986-03-19\n",
       "           ...    \n",
       "9077    2022-03-17\n",
       "9078    2022-03-18\n",
       "9079    2022-03-21\n",
       "9080    2022-03-22\n",
       "9081    2022-03-23\n",
       "Name: Date, Length: 9082, dtype: object"
      ]
     },
     "execution_count": 5,
     "metadata": {},
     "output_type": "execute_result"
    }
   ],
   "source": [
    "df['Date']"
   ]
  },
  {
   "cell_type": "code",
   "execution_count": 6,
   "id": "3a40ddc0",
   "metadata": {},
   "outputs": [
    {
     "data": {
      "text/plain": [
       "datetime.datetime(1986, 3, 19, 0, 0)"
      ]
     },
     "execution_count": 6,
     "metadata": {},
     "output_type": "execute_result"
    }
   ],
   "source": [
    "def str_to_datetime(s):\n",
    "  split = s.split('-')\n",
    "  year, month, day = int(split[0]), int(split[1]), int(split[2])\n",
    "  return datetime.datetime(year=year, month=month, day=day)\n",
    "\n",
    "datetime_object = str_to_datetime('1986-03-19')\n",
    "datetime_object"
   ]
  },
  {
   "cell_type": "code",
   "execution_count": 7,
   "id": "a4ceceb9",
   "metadata": {},
   "outputs": [
    {
     "data": {
      "text/html": [
       "<div>\n",
       "<style scoped>\n",
       "    .dataframe tbody tr th:only-of-type {\n",
       "        vertical-align: middle;\n",
       "    }\n",
       "\n",
       "    .dataframe tbody tr th {\n",
       "        vertical-align: top;\n",
       "    }\n",
       "\n",
       "    .dataframe thead th {\n",
       "        text-align: right;\n",
       "    }\n",
       "</style>\n",
       "<table border=\"1\" class=\"dataframe\">\n",
       "  <thead>\n",
       "    <tr style=\"text-align: right;\">\n",
       "      <th></th>\n",
       "      <th>Date</th>\n",
       "      <th>Close</th>\n",
       "    </tr>\n",
       "  </thead>\n",
       "  <tbody>\n",
       "    <tr>\n",
       "      <th>0</th>\n",
       "      <td>1986-03-13</td>\n",
       "      <td>0.097222</td>\n",
       "    </tr>\n",
       "    <tr>\n",
       "      <th>1</th>\n",
       "      <td>1986-03-14</td>\n",
       "      <td>0.100694</td>\n",
       "    </tr>\n",
       "    <tr>\n",
       "      <th>2</th>\n",
       "      <td>1986-03-17</td>\n",
       "      <td>0.102431</td>\n",
       "    </tr>\n",
       "    <tr>\n",
       "      <th>3</th>\n",
       "      <td>1986-03-18</td>\n",
       "      <td>0.099826</td>\n",
       "    </tr>\n",
       "    <tr>\n",
       "      <th>4</th>\n",
       "      <td>1986-03-19</td>\n",
       "      <td>0.098090</td>\n",
       "    </tr>\n",
       "    <tr>\n",
       "      <th>...</th>\n",
       "      <td>...</td>\n",
       "      <td>...</td>\n",
       "    </tr>\n",
       "    <tr>\n",
       "      <th>9077</th>\n",
       "      <td>2022-03-17</td>\n",
       "      <td>295.220001</td>\n",
       "    </tr>\n",
       "    <tr>\n",
       "      <th>9078</th>\n",
       "      <td>2022-03-18</td>\n",
       "      <td>300.429993</td>\n",
       "    </tr>\n",
       "    <tr>\n",
       "      <th>9079</th>\n",
       "      <td>2022-03-21</td>\n",
       "      <td>299.160004</td>\n",
       "    </tr>\n",
       "    <tr>\n",
       "      <th>9080</th>\n",
       "      <td>2022-03-22</td>\n",
       "      <td>304.059998</td>\n",
       "    </tr>\n",
       "    <tr>\n",
       "      <th>9081</th>\n",
       "      <td>2022-03-23</td>\n",
       "      <td>299.489990</td>\n",
       "    </tr>\n",
       "  </tbody>\n",
       "</table>\n",
       "<p>9082 rows × 2 columns</p>\n",
       "</div>"
      ],
      "text/plain": [
       "            Date       Close\n",
       "0     1986-03-13    0.097222\n",
       "1     1986-03-14    0.100694\n",
       "2     1986-03-17    0.102431\n",
       "3     1986-03-18    0.099826\n",
       "4     1986-03-19    0.098090\n",
       "...          ...         ...\n",
       "9077  2022-03-17  295.220001\n",
       "9078  2022-03-18  300.429993\n",
       "9079  2022-03-21  299.160004\n",
       "9080  2022-03-22  304.059998\n",
       "9081  2022-03-23  299.489990\n",
       "\n",
       "[9082 rows x 2 columns]"
      ]
     },
     "execution_count": 7,
     "metadata": {},
     "output_type": "execute_result"
    }
   ],
   "source": [
    "df"
   ]
  },
  {
   "cell_type": "code",
   "execution_count": 8,
   "id": "fbde54f0",
   "metadata": {},
   "outputs": [
    {
     "name": "stderr",
     "output_type": "stream",
     "text": [
      "C:\\Users\\sarth\\AppData\\Local\\Temp\\ipykernel_20916\\2565755782.py:1: SettingWithCopyWarning: \n",
      "A value is trying to be set on a copy of a slice from a DataFrame.\n",
      "Try using .loc[row_indexer,col_indexer] = value instead\n",
      "\n",
      "See the caveats in the documentation: https://pandas.pydata.org/pandas-docs/stable/user_guide/indexing.html#returning-a-view-versus-a-copy\n",
      "  df['Date'] = df['Date'].apply(str_to_datetime)\n"
     ]
    },
    {
     "data": {
      "text/plain": [
       "0      1986-03-13\n",
       "1      1986-03-14\n",
       "2      1986-03-17\n",
       "3      1986-03-18\n",
       "4      1986-03-19\n",
       "          ...    \n",
       "9077   2022-03-17\n",
       "9078   2022-03-18\n",
       "9079   2022-03-21\n",
       "9080   2022-03-22\n",
       "9081   2022-03-23\n",
       "Name: Date, Length: 9082, dtype: datetime64[ns]"
      ]
     },
     "execution_count": 8,
     "metadata": {},
     "output_type": "execute_result"
    }
   ],
   "source": [
    "df['Date'] = df['Date'].apply(str_to_datetime)\n",
    "df['Date']"
   ]
  },
  {
   "cell_type": "code",
   "execution_count": 9,
   "id": "1c029402",
   "metadata": {},
   "outputs": [
    {
     "data": {
      "text/html": [
       "<div>\n",
       "<style scoped>\n",
       "    .dataframe tbody tr th:only-of-type {\n",
       "        vertical-align: middle;\n",
       "    }\n",
       "\n",
       "    .dataframe tbody tr th {\n",
       "        vertical-align: top;\n",
       "    }\n",
       "\n",
       "    .dataframe thead th {\n",
       "        text-align: right;\n",
       "    }\n",
       "</style>\n",
       "<table border=\"1\" class=\"dataframe\">\n",
       "  <thead>\n",
       "    <tr style=\"text-align: right;\">\n",
       "      <th></th>\n",
       "      <th>Close</th>\n",
       "    </tr>\n",
       "    <tr>\n",
       "      <th>Date</th>\n",
       "      <th></th>\n",
       "    </tr>\n",
       "  </thead>\n",
       "  <tbody>\n",
       "    <tr>\n",
       "      <th>1986-03-13</th>\n",
       "      <td>0.097222</td>\n",
       "    </tr>\n",
       "    <tr>\n",
       "      <th>1986-03-14</th>\n",
       "      <td>0.100694</td>\n",
       "    </tr>\n",
       "    <tr>\n",
       "      <th>1986-03-17</th>\n",
       "      <td>0.102431</td>\n",
       "    </tr>\n",
       "    <tr>\n",
       "      <th>1986-03-18</th>\n",
       "      <td>0.099826</td>\n",
       "    </tr>\n",
       "    <tr>\n",
       "      <th>1986-03-19</th>\n",
       "      <td>0.098090</td>\n",
       "    </tr>\n",
       "    <tr>\n",
       "      <th>...</th>\n",
       "      <td>...</td>\n",
       "    </tr>\n",
       "    <tr>\n",
       "      <th>2022-03-17</th>\n",
       "      <td>295.220001</td>\n",
       "    </tr>\n",
       "    <tr>\n",
       "      <th>2022-03-18</th>\n",
       "      <td>300.429993</td>\n",
       "    </tr>\n",
       "    <tr>\n",
       "      <th>2022-03-21</th>\n",
       "      <td>299.160004</td>\n",
       "    </tr>\n",
       "    <tr>\n",
       "      <th>2022-03-22</th>\n",
       "      <td>304.059998</td>\n",
       "    </tr>\n",
       "    <tr>\n",
       "      <th>2022-03-23</th>\n",
       "      <td>299.489990</td>\n",
       "    </tr>\n",
       "  </tbody>\n",
       "</table>\n",
       "<p>9082 rows × 1 columns</p>\n",
       "</div>"
      ],
      "text/plain": [
       "                 Close\n",
       "Date                  \n",
       "1986-03-13    0.097222\n",
       "1986-03-14    0.100694\n",
       "1986-03-17    0.102431\n",
       "1986-03-18    0.099826\n",
       "1986-03-19    0.098090\n",
       "...                ...\n",
       "2022-03-17  295.220001\n",
       "2022-03-18  300.429993\n",
       "2022-03-21  299.160004\n",
       "2022-03-22  304.059998\n",
       "2022-03-23  299.489990\n",
       "\n",
       "[9082 rows x 1 columns]"
      ]
     },
     "execution_count": 9,
     "metadata": {},
     "output_type": "execute_result"
    }
   ],
   "source": [
    "df.index = df.pop('Date')\n",
    "df"
   ]
  },
  {
   "cell_type": "code",
   "execution_count": 10,
   "id": "96ca36de",
   "metadata": {},
   "outputs": [
    {
     "data": {
      "text/plain": [
       "[<matplotlib.lines.Line2D at 0x25db9f3eee0>]"
      ]
     },
     "execution_count": 10,
     "metadata": {},
     "output_type": "execute_result"
    },
    {
     "data": {
      "image/png": "[encoded data removed]",
      "text/plain": [
       "<Figure size 432x288 with 1 Axes>"
      ]
     },
     "metadata": {},
     "output_type": "display_data"
    }
   ],
   "source": [
    "import seaborn as sns\n",
    "sns.set()\n",
    "plt.plot(df.index, df['Close'])"
   ]
  },
  {
   "cell_type": "code",
   "execution_count": 11,
   "id": "26663bc0",
   "metadata": {},
   "outputs": [
    {
     "data": {
      "text/html": [
       "<div>\n",
       "<style scoped>\n",
       "    .dataframe tbody tr th:only-of-type {\n",
       "        vertical-align: middle;\n",
       "    }\n",
       "\n",
       "    .dataframe tbody tr th {\n",
       "        vertical-align: top;\n",
       "    }\n",
       "\n",
       "    .dataframe thead th {\n",
       "        text-align: right;\n",
       "    }\n",
       "</style>\n",
       "<table border=\"1\" class=\"dataframe\">\n",
       "  <thead>\n",
       "    <tr style=\"text-align: right;\">\n",
       "      <th></th>\n",
       "      <th>Target Date</th>\n",
       "      <th>Target-3</th>\n",
       "      <th>Target-2</th>\n",
       "      <th>Target-1</th>\n",
       "      <th>Target</th>\n",
       "    </tr>\n",
       "  </thead>\n",
       "  <tbody>\n",
       "    <tr>\n",
       "      <th>0</th>\n",
       "      <td>2021-03-25</td>\n",
       "      <td>235.990005</td>\n",
       "      <td>237.580002</td>\n",
       "      <td>235.460007</td>\n",
       "      <td>232.339996</td>\n",
       "    </tr>\n",
       "    <tr>\n",
       "      <th>1</th>\n",
       "      <td>2021-03-26</td>\n",
       "      <td>237.580002</td>\n",
       "      <td>235.460007</td>\n",
       "      <td>232.339996</td>\n",
       "      <td>236.479996</td>\n",
       "    </tr>\n",
       "    <tr>\n",
       "      <th>2</th>\n",
       "      <td>2021-03-29</td>\n",
       "      <td>235.460007</td>\n",
       "      <td>232.339996</td>\n",
       "      <td>236.479996</td>\n",
       "      <td>235.240005</td>\n",
       "    </tr>\n",
       "    <tr>\n",
       "      <th>3</th>\n",
       "      <td>2021-03-30</td>\n",
       "      <td>232.339996</td>\n",
       "      <td>236.479996</td>\n",
       "      <td>235.240005</td>\n",
       "      <td>231.850006</td>\n",
       "    </tr>\n",
       "    <tr>\n",
       "      <th>4</th>\n",
       "      <td>2021-03-31</td>\n",
       "      <td>236.479996</td>\n",
       "      <td>235.240005</td>\n",
       "      <td>231.850006</td>\n",
       "      <td>235.770004</td>\n",
       "    </tr>\n",
       "    <tr>\n",
       "      <th>...</th>\n",
       "      <td>...</td>\n",
       "      <td>...</td>\n",
       "      <td>...</td>\n",
       "      <td>...</td>\n",
       "      <td>...</td>\n",
       "    </tr>\n",
       "    <tr>\n",
       "      <th>247</th>\n",
       "      <td>2022-03-17</td>\n",
       "      <td>276.440002</td>\n",
       "      <td>287.149994</td>\n",
       "      <td>294.390015</td>\n",
       "      <td>295.220001</td>\n",
       "    </tr>\n",
       "    <tr>\n",
       "      <th>248</th>\n",
       "      <td>2022-03-18</td>\n",
       "      <td>287.149994</td>\n",
       "      <td>294.390015</td>\n",
       "      <td>295.220001</td>\n",
       "      <td>300.429993</td>\n",
       "    </tr>\n",
       "    <tr>\n",
       "      <th>249</th>\n",
       "      <td>2022-03-21</td>\n",
       "      <td>294.390015</td>\n",
       "      <td>295.220001</td>\n",
       "      <td>300.429993</td>\n",
       "      <td>299.160004</td>\n",
       "    </tr>\n",
       "    <tr>\n",
       "      <th>250</th>\n",
       "      <td>2022-03-22</td>\n",
       "      <td>295.220001</td>\n",
       "      <td>300.429993</td>\n",
       "      <td>299.160004</td>\n",
       "      <td>304.059998</td>\n",
       "    </tr>\n",
       "    <tr>\n",
       "      <th>251</th>\n",
       "      <td>2022-03-23</td>\n",
       "      <td>300.429993</td>\n",
       "      <td>299.160004</td>\n",
       "      <td>304.059998</td>\n",
       "      <td>299.489990</td>\n",
       "    </tr>\n",
       "  </tbody>\n",
       "</table>\n",
       "<p>252 rows × 5 columns</p>\n",
       "</div>"
      ],
      "text/plain": [
       "    Target Date    Target-3    Target-2    Target-1      Target\n",
       "0    2021-03-25  235.990005  237.580002  235.460007  232.339996\n",
       "1    2021-03-26  237.580002  235.460007  232.339996  236.479996\n",
       "2    2021-03-29  235.460007  232.339996  236.479996  235.240005\n",
       "3    2021-03-30  232.339996  236.479996  235.240005  231.850006\n",
       "4    2021-03-31  236.479996  235.240005  231.850006  235.770004\n",
       "..          ...         ...         ...         ...         ...\n",
       "247  2022-03-17  276.440002  287.149994  294.390015  295.220001\n",
       "248  2022-03-18  287.149994  294.390015  295.220001  300.429993\n",
       "249  2022-03-21  294.390015  295.220001  300.429993  299.160004\n",
       "250  2022-03-22  295.220001  300.429993  299.160004  304.059998\n",
       "251  2022-03-23  300.429993  299.160004  304.059998  299.489990\n",
       "\n",
       "[252 rows x 5 columns]"
      ]
     },
     "execution_count": 11,
     "metadata": {},
     "output_type": "execute_result"
    }
   ],
   "source": [
    "def df_to_windowed_df(dataframe, first_date_str, last_date_str, n=3):\n",
    "  first_date = str_to_datetime(first_date_str)\n",
    "  last_date  = str_to_datetime(last_date_str)\n",
    "\n",
    "  target_date = first_date\n",
    "  \n",
    "  dates = []\n",
    "  X, Y = [], []\n",
    "\n",
    "  last_time = False\n",
    "  while True:\n",
    "    df_subset = dataframe.loc[:target_date].tail(n+1)\n",
    "    \n",
    "    if len(df_subset) != n+1:\n",
    "      print(f'Error: Window of size {n} is too large for date {target_date}')\n",
    "      return\n",
    "\n",
    "    values = df_subset['Close'].to_numpy()\n",
    "    x, y = values[:-1], values[-1]\n",
    "\n",
    "    dates.append(target_date)\n",
    "    X.append(x)\n",
    "    Y.append(y)\n",
    "\n",
    "    next_week = dataframe.loc[target_date:target_date+datetime.timedelta(days=7)]\n",
    "    next_datetime_str = str(next_week.head(2).tail(1).index.values[0])\n",
    "    next_date_str = next_datetime_str.split('T')[0]\n",
    "    year_month_day = next_date_str.split('-')\n",
    "    year, month, day = year_month_day\n",
    "    next_date = datetime.datetime(day=int(day), month=int(month), year=int(year))\n",
    "    \n",
    "    if last_time:\n",
    "      break\n",
    "    \n",
    "    target_date = next_date\n",
    "\n",
    "    if target_date == last_date:\n",
    "      last_time = True\n",
    "    \n",
    "  ret_df = pd.DataFrame({})\n",
    "  ret_df['Target Date'] = dates\n",
    "  \n",
    "  X = np.array(X)\n",
    "  for i in range(0, n):\n",
    "    X[:, i]\n",
    "    ret_df[f'Target-{n-i}'] = X[:, i]\n",
    "  \n",
    "  ret_df['Target'] = Y\n",
    "\n",
    "  return ret_df\n",
    "\n",
    "# Start day second time around: '2021-03-25'\n",
    "windowed_df = df_to_windowed_df(df, \n",
    "                                '2021-03-25', \n",
    "                                '2022-03-23', \n",
    "                                n=3)\n",
    "windowed_df"
   ]
  },
  {
   "cell_type": "code",
   "execution_count": 12,
   "id": "60abca76",
   "metadata": {},
   "outputs": [
    {
     "data": {
      "text/plain": [
       "((252,), (252, 3, 1), (252,))"
      ]
     },
     "execution_count": 12,
     "metadata": {},
     "output_type": "execute_result"
    }
   ],
   "source": [
    "def windowed_df_to_date_X_y(windowed_dataframe):\n",
    "  df_as_np = windowed_dataframe.to_numpy()\n",
    "\n",
    "  dates = df_as_np[:, 0]\n",
    "\n",
    "  middle_matrix = df_as_np[:, 1:-1]\n",
    "  X = middle_matrix.reshape((len(dates), middle_matrix.shape[1], 1))\n",
    "\n",
    "  Y = df_as_np[:, -1]\n",
    "\n",
    "  return dates, X.astype(np.float32), Y.astype(np.float32)\n",
    "\n",
    "dates, X, y = windowed_df_to_date_X_y(windowed_df)\n",
    "\n",
    "dates.shape, X.shape, y.shape"
   ]
  },
  {
   "cell_type": "code",
   "execution_count": 13,
   "id": "d550f2b2",
   "metadata": {},
   "outputs": [
    {
     "data": {
      "text/plain": [
       "<matplotlib.legend.Legend at 0x25dba8fba90>"
      ]
     },
     "execution_count": 13,
     "metadata": {},
     "output_type": "execute_result"
    },
    {
     "data": {
      "image/png": "[encoded data removed]",
      "text/plain": [
       "<Figure size 432x288 with 1 Axes>"
      ]
     },
     "metadata": {},
     "output_type": "display_data"
    }
   ],
   "source": [
    "q_80 = int(len(dates) * .8)\n",
    "q_90 = int(len(dates) * .9)\n",
    "\n",
    "dates_train, X_train, y_train = dates[:q_80], X[:q_80], y[:q_80]\n",
    "\n",
    "dates_val, X_val, y_val = dates[q_80:q_90], X[q_80:q_90], y[q_80:q_90]\n",
    "dates_test, X_test, y_test = dates[q_90:], X[q_90:], y[q_90:]\n",
    "\n",
    "plt.plot(dates_train, y_train)\n",
    "plt.plot(dates_val, y_val)\n",
    "plt.plot(dates_test, y_test)\n",
    "\n",
    "plt.legend(['Train', 'Validation', 'Test'])"
   ]
  },
  {
   "cell_type": "code",
   "execution_count": 14,
   "id": "9b4e4824",
   "metadata": {},
   "outputs": [
    {
     "name": "stdout",
     "output_type": "stream",
     "text": [
      "Epoch 1/100\n",
      "7/7 [==============================] - 2s 64ms/step - loss: 84476.6797 - mean_absolute_error: 288.9069 - val_loss: 92205.5938 - val_mean_absolute_error: 303.5665\n",
      "Epoch 2/100\n",
      "7/7 [==============================] - 0s 5ms/step - loss: 84304.2422 - mean_absolute_error: 288.6076 - val_loss: 92013.2266 - val_mean_absolute_error: 303.2495\n",
      "Epoch 3/100\n",
      "7/7 [==============================] - 0s 5ms/step - loss: 84102.8750 - mean_absolute_error: 288.2584 - val_loss: 91763.2031 - val_mean_absolute_error: 302.8369\n",
      "Epoch 4/100\n",
      "7/7 [==============================] - 0s 4ms/step - loss: 83839.8438 - mean_absolute_error: 287.8016 - val_loss: 91440.7266 - val_mean_absolute_error: 302.3041\n",
      "Epoch 5/100\n",
      "7/7 [==============================] - 0s 5ms/step - loss: 83498.9844 - mean_absolute_error: 287.2097 - val_loss: 91017.0781 - val_mean_absolute_error: 301.6026\n",
      "Epoch 6/100\n",
      "7/7 [==============================] - 0s 5ms/step - loss: 83052.6328 - mean_absolute_error: 286.4314 - val_loss: 90462.7500 - val_mean_absolute_error: 300.6822\n",
      "Epoch 7/100\n",
      "7/7 [==============================] - 0s 5ms/step - loss: 82476.5234 - mean_absolute_error: 285.4193 - val_loss: 89766.2969 - val_mean_absolute_error: 299.5218\n",
      "Epoch 8/100\n",
      "7/7 [==============================] - 0s 5ms/step - loss: 81704.3203 - mean_absolute_error: 284.0599 - val_loss: 88658.9922 - val_mean_absolute_error: 297.6674\n",
      "Epoch 9/100\n",
      "7/7 [==============================] - 0s 5ms/step - loss: 80347.6016 - mean_absolute_error: 281.6711 - val_loss: 86840.1562 - val_mean_absolute_error: 294.5966\n",
      "Epoch 10/100\n",
      "7/7 [==============================] - 0s 5ms/step - loss: 78640.5312 - mean_absolute_error: 278.6093 - val_loss: 85020.4375 - val_mean_absolute_error: 291.4917\n",
      "Epoch 11/100\n",
      "7/7 [==============================] - 0s 5ms/step - loss: 76737.6719 - mean_absolute_error: 275.1832 - val_loss: 82633.2500 - val_mean_absolute_error: 287.3678\n",
      "Epoch 12/100\n",
      "7/7 [==============================] - 0s 5ms/step - loss: 74384.7891 - mean_absolute_error: 270.8726 - val_loss: 80172.2734 - val_mean_absolute_error: 283.0535\n",
      "Epoch 13/100\n",
      "7/7 [==============================] - 0s 6ms/step - loss: 71912.3438 - mean_absolute_error: 266.2488 - val_loss: 77045.6328 - val_mean_absolute_error: 277.4755\n",
      "Epoch 14/100\n",
      "7/7 [==============================] - 0s 5ms/step - loss: 68794.6250 - mean_absolute_error: 260.3235 - val_loss: 73684.2422 - val_mean_absolute_error: 271.3508\n",
      "Epoch 15/100\n",
      "7/7 [==============================] - 0s 5ms/step - loss: 65536.1172 - mean_absolute_error: 254.0070 - val_loss: 70043.7422 - val_mean_absolute_error: 264.5577\n",
      "Epoch 16/100\n",
      "7/7 [==============================] - 0s 4ms/step - loss: 61947.8008 - mean_absolute_error: 246.8255 - val_loss: 65922.4688 - val_mean_absolute_error: 256.6504\n",
      "Epoch 17/100\n",
      "7/7 [==============================] - 0s 5ms/step - loss: 57848.9492 - mean_absolute_error: 238.3842 - val_loss: 61293.9219 - val_mean_absolute_error: 247.4689\n",
      "Epoch 18/100\n",
      "7/7 [==============================] - 0s 4ms/step - loss: 53327.5312 - mean_absolute_error: 228.7321 - val_loss: 56211.1211 - val_mean_absolute_error: 236.9771\n",
      "Epoch 19/100\n",
      "7/7 [==============================] - 0s 5ms/step - loss: 48521.0586 - mean_absolute_error: 217.9771 - val_loss: 50972.0898 - val_mean_absolute_error: 225.6526\n",
      "Epoch 20/100\n",
      "7/7 [==============================] - 0s 4ms/step - loss: 43435.9414 - mean_absolute_error: 205.9294 - val_loss: 45085.9219 - val_mean_absolute_error: 212.2096\n",
      "Epoch 21/100\n",
      "7/7 [==============================] - 0s 5ms/step - loss: 37914.6055 - mean_absolute_error: 192.0408 - val_loss: 39238.7695 - val_mean_absolute_error: 197.9533\n",
      "Epoch 22/100\n",
      "7/7 [==============================] - 0s 5ms/step - loss: 32321.5664 - mean_absolute_error: 176.8731 - val_loss: 33097.0195 - val_mean_absolute_error: 181.7796\n",
      "Epoch 23/100\n",
      "7/7 [==============================] - 0s 5ms/step - loss: 26861.0898 - mean_absolute_error: 160.6167 - val_loss: 27439.4629 - val_mean_absolute_error: 165.4886\n",
      "Epoch 24/100\n",
      "7/7 [==============================] - 0s 5ms/step - loss: 21947.1172 - mean_absolute_error: 144.5003 - val_loss: 22302.9668 - val_mean_absolute_error: 149.1639\n",
      "Epoch 25/100\n",
      "7/7 [==============================] - 0s 5ms/step - loss: 17352.5645 - mean_absolute_error: 127.7872 - val_loss: 17519.6348 - val_mean_absolute_error: 132.1615\n",
      "Epoch 26/100\n",
      "7/7 [==============================] - 0s 4ms/step - loss: 13340.4639 - mean_absolute_error: 111.0208 - val_loss: 13408.9854 - val_mean_absolute_error: 115.5683\n",
      "Epoch 27/100\n",
      "7/7 [==============================] - 0s 4ms/step - loss: 9965.5225 - mean_absolute_error: 94.5062 - val_loss: 9912.9258 - val_mean_absolute_error: 99.2973\n",
      "Epoch 28/100\n",
      "7/7 [==============================] - 0s 5ms/step - loss: 7172.9253 - mean_absolute_error: 78.5272 - val_loss: 7079.7505 - val_mean_absolute_error: 83.8259\n",
      "Epoch 29/100\n",
      "7/7 [==============================] - 0s 5ms/step - loss: 5039.3018 - mean_absolute_error: 63.3458 - val_loss: 4835.0884 - val_mean_absolute_error: 69.1517\n",
      "Epoch 30/100\n",
      "7/7 [==============================] - 0s 5ms/step - loss: 3358.7266 - mean_absolute_error: 48.6481 - val_loss: 2796.2905 - val_mean_absolute_error: 52.3773\n",
      "Epoch 31/100\n",
      "7/7 [==============================] - 0s 5ms/step - loss: 2076.4941 - mean_absolute_error: 36.6613 - val_loss: 1634.3337 - val_mean_absolute_error: 39.7665\n",
      "Epoch 32/100\n",
      "7/7 [==============================] - 0s 5ms/step - loss: 1466.0265 - mean_absolute_error: 31.6762 - val_loss: 959.5211 - val_mean_absolute_error: 30.1091\n",
      "Epoch 33/100\n",
      "7/7 [==============================] - 0s 5ms/step - loss: 1152.3107 - mean_absolute_error: 28.5997 - val_loss: 584.1458 - val_mean_absolute_error: 23.0474\n",
      "Epoch 34/100\n",
      "7/7 [==============================] - 0s 5ms/step - loss: 1055.4242 - mean_absolute_error: 27.4051 - val_loss: 370.6459 - val_mean_absolute_error: 17.8236\n",
      "Epoch 35/100\n",
      "7/7 [==============================] - 0s 5ms/step - loss: 1009.4084 - mean_absolute_error: 26.8473 - val_loss: 280.0480 - val_mean_absolute_error: 15.1216\n",
      "Epoch 36/100\n",
      "7/7 [==============================] - 0s 5ms/step - loss: 1013.5280 - mean_absolute_error: 26.9142 - val_loss: 239.7057 - val_mean_absolute_error: 13.8299\n",
      "Epoch 37/100\n",
      "7/7 [==============================] - 0s 6ms/step - loss: 1011.5971 - mean_absolute_error: 26.8925 - val_loss: 241.3893 - val_mean_absolute_error: 13.8864\n",
      "Epoch 38/100\n",
      "7/7 [==============================] - 0s 5ms/step - loss: 1013.0501 - mean_absolute_error: 26.9146 - val_loss: 248.1362 - val_mean_absolute_error: 14.1106\n",
      "Epoch 39/100\n",
      "7/7 [==============================] - 0s 5ms/step - loss: 1010.3283 - mean_absolute_error: 26.8757 - val_loss: 246.0641 - val_mean_absolute_error: 14.0430\n",
      "Epoch 40/100\n",
      "7/7 [==============================] - 0s 5ms/step - loss: 1008.0988 - mean_absolute_error: 26.8352 - val_loss: 264.1385 - val_mean_absolute_error: 14.6283\n",
      "Epoch 41/100\n",
      "7/7 [==============================] - 0s 4ms/step - loss: 1008.2481 - mean_absolute_error: 26.8349 - val_loss: 280.8559 - val_mean_absolute_error: 15.1478\n",
      "Epoch 42/100\n",
      "7/7 [==============================] - 0s 5ms/step - loss: 1007.4016 - mean_absolute_error: 26.8197 - val_loss: 294.7400 - val_mean_absolute_error: 15.5662\n",
      "Epoch 43/100\n",
      "7/7 [==============================] - 0s 4ms/step - loss: 1006.8270 - mean_absolute_error: 26.8009 - val_loss: 273.1651 - val_mean_absolute_error: 14.9107\n",
      "Epoch 44/100\n",
      "7/7 [==============================] - 0s 5ms/step - loss: 1008.2342 - mean_absolute_error: 26.8356 - val_loss: 281.7844 - val_mean_absolute_error: 15.1758\n",
      "Epoch 45/100\n",
      "7/7 [==============================] - 0s 4ms/step - loss: 1005.9312 - mean_absolute_error: 26.8023 - val_loss: 290.5705 - val_mean_absolute_error: 15.4427\n",
      "Epoch 46/100\n",
      "7/7 [==============================] - 0s 4ms/step - loss: 1004.1036 - mean_absolute_error: 26.7780 - val_loss: 293.8139 - val_mean_absolute_error: 15.5408\n",
      "Epoch 47/100\n",
      "7/7 [==============================] - 0s 4ms/step - loss: 1002.0625 - mean_absolute_error: 26.7613 - val_loss: 285.9218 - val_mean_absolute_error: 15.3056\n",
      "Epoch 48/100\n",
      "7/7 [==============================] - 0s 5ms/step - loss: 1005.1971 - mean_absolute_error: 26.7947 - val_loss: 256.5265 - val_mean_absolute_error: 14.3860\n"
     ]
    },
    {
     "name": "stdout",
     "output_type": "stream",
     "text": [
      "Epoch 49/100\n",
      "7/7 [==============================] - 0s 4ms/step - loss: 1002.6173 - mean_absolute_error: 26.7678 - val_loss: 281.8096 - val_mean_absolute_error: 15.1861\n",
      "Epoch 50/100\n",
      "7/7 [==============================] - 0s 5ms/step - loss: 980.6465 - mean_absolute_error: 26.4556 - val_loss: 370.1105 - val_mean_absolute_error: 17.8577\n",
      "Epoch 51/100\n",
      "7/7 [==============================] - 0s 5ms/step - loss: 965.1904 - mean_absolute_error: 26.2861 - val_loss: 282.1887 - val_mean_absolute_error: 15.2127\n",
      "Epoch 52/100\n",
      "7/7 [==============================] - 0s 5ms/step - loss: 955.0005 - mean_absolute_error: 26.0945 - val_loss: 381.5865 - val_mean_absolute_error: 18.1883\n",
      "Epoch 53/100\n",
      "7/7 [==============================] - 0s 4ms/step - loss: 955.2833 - mean_absolute_error: 26.1576 - val_loss: 261.1871 - val_mean_absolute_error: 14.5752\n",
      "Epoch 54/100\n",
      "7/7 [==============================] - 0s 5ms/step - loss: 939.0825 - mean_absolute_error: 25.9023 - val_loss: 301.4987 - val_mean_absolute_error: 15.8497\n",
      "Epoch 55/100\n",
      "7/7 [==============================] - 0s 4ms/step - loss: 925.5229 - mean_absolute_error: 25.4205 - val_loss: 206.8902 - val_mean_absolute_error: 12.7273\n",
      "Epoch 56/100\n",
      "7/7 [==============================] - 0s 5ms/step - loss: 937.3606 - mean_absolute_error: 25.8267 - val_loss: 336.8277 - val_mean_absolute_error: 16.9445\n",
      "Epoch 57/100\n",
      "7/7 [==============================] - 0s 5ms/step - loss: 912.0242 - mean_absolute_error: 25.5773 - val_loss: 281.1651 - val_mean_absolute_error: 15.2892\n",
      "Epoch 58/100\n",
      "7/7 [==============================] - 0s 4ms/step - loss: 818.9594 - mean_absolute_error: 24.2048 - val_loss: 267.3711 - val_mean_absolute_error: 14.8612\n",
      "Epoch 59/100\n",
      "7/7 [==============================] - 0s 4ms/step - loss: 808.1274 - mean_absolute_error: 24.0061 - val_loss: 228.8592 - val_mean_absolute_error: 13.6113\n",
      "Epoch 60/100\n",
      "7/7 [==============================] - 0s 4ms/step - loss: 770.1281 - mean_absolute_error: 23.4212 - val_loss: 193.2630 - val_mean_absolute_error: 12.3408\n",
      "Epoch 61/100\n",
      "7/7 [==============================] - 0s 4ms/step - loss: 728.5247 - mean_absolute_error: 22.6444 - val_loss: 187.9075 - val_mean_absolute_error: 12.1582\n",
      "Epoch 62/100\n",
      "7/7 [==============================] - 0s 4ms/step - loss: 687.9742 - mean_absolute_error: 22.0233 - val_loss: 182.2782 - val_mean_absolute_error: 11.9792\n",
      "Epoch 63/100\n",
      "7/7 [==============================] - 0s 5ms/step - loss: 654.3956 - mean_absolute_error: 21.5484 - val_loss: 193.6782 - val_mean_absolute_error: 12.4376\n",
      "Epoch 64/100\n",
      "7/7 [==============================] - 0s 5ms/step - loss: 579.4069 - mean_absolute_error: 19.9346 - val_loss: 178.3910 - val_mean_absolute_error: 11.8854\n",
      "Epoch 65/100\n",
      "7/7 [==============================] - 0s 5ms/step - loss: 509.6199 - mean_absolute_error: 18.6345 - val_loss: 149.2514 - val_mean_absolute_error: 10.7177\n",
      "Epoch 66/100\n",
      "7/7 [==============================] - 0s 5ms/step - loss: 481.4473 - mean_absolute_error: 17.9140 - val_loss: 219.8018 - val_mean_absolute_error: 13.5156\n",
      "Epoch 67/100\n",
      "7/7 [==============================] - 0s 5ms/step - loss: 443.5739 - mean_absolute_error: 17.1366 - val_loss: 120.2192 - val_mean_absolute_error: 9.4137\n",
      "Epoch 68/100\n",
      "7/7 [==============================] - 0s 5ms/step - loss: 360.5583 - mean_absolute_error: 15.4147 - val_loss: 115.5901 - val_mean_absolute_error: 9.2595\n",
      "Epoch 69/100\n",
      "7/7 [==============================] - 0s 5ms/step - loss: 314.2978 - mean_absolute_error: 14.4846 - val_loss: 130.1419 - val_mean_absolute_error: 9.9587\n",
      "Epoch 70/100\n",
      "7/7 [==============================] - 0s 5ms/step - loss: 260.9384 - mean_absolute_error: 12.7275 - val_loss: 152.5702 - val_mean_absolute_error: 10.9706\n",
      "Epoch 71/100\n",
      "7/7 [==============================] - 0s 4ms/step - loss: 222.1459 - mean_absolute_error: 11.7437 - val_loss: 110.9965 - val_mean_absolute_error: 9.0903\n",
      "Epoch 72/100\n",
      "7/7 [==============================] - 0s 5ms/step - loss: 195.7156 - mean_absolute_error: 10.9461 - val_loss: 68.7094 - val_mean_absolute_error: 6.8085\n",
      "Epoch 73/100\n",
      "7/7 [==============================] - 0s 4ms/step - loss: 157.9383 - mean_absolute_error: 9.4808 - val_loss: 45.4538 - val_mean_absolute_error: 5.4875\n",
      "Epoch 74/100\n",
      "7/7 [==============================] - 0s 5ms/step - loss: 132.5127 - mean_absolute_error: 8.3750 - val_loss: 35.3612 - val_mean_absolute_error: 4.9948\n",
      "Epoch 75/100\n",
      "7/7 [==============================] - 0s 5ms/step - loss: 126.6457 - mean_absolute_error: 8.7978 - val_loss: 33.2783 - val_mean_absolute_error: 4.9830\n",
      "Epoch 76/100\n",
      "7/7 [==============================] - 0s 5ms/step - loss: 98.5613 - mean_absolute_error: 7.2820 - val_loss: 32.4326 - val_mean_absolute_error: 4.9422\n",
      "Epoch 77/100\n",
      "7/7 [==============================] - 0s 5ms/step - loss: 79.2830 - mean_absolute_error: 6.3968 - val_loss: 31.4323 - val_mean_absolute_error: 4.8510\n",
      "Epoch 78/100\n",
      "7/7 [==============================] - 0s 5ms/step - loss: 72.9202 - mean_absolute_error: 6.2476 - val_loss: 53.9042 - val_mean_absolute_error: 5.9298\n",
      "Epoch 79/100\n",
      "7/7 [==============================] - 0s 5ms/step - loss: 70.7318 - mean_absolute_error: 6.5256 - val_loss: 39.1111 - val_mean_absolute_error: 5.1141\n",
      "Epoch 80/100\n",
      "7/7 [==============================] - 0s 5ms/step - loss: 59.3142 - mean_absolute_error: 5.7118 - val_loss: 32.7778 - val_mean_absolute_error: 4.8543\n",
      "Epoch 81/100\n",
      "7/7 [==============================] - 0s 5ms/step - loss: 48.1594 - mean_absolute_error: 5.2121 - val_loss: 35.2716 - val_mean_absolute_error: 4.9460\n",
      "Epoch 82/100\n",
      "7/7 [==============================] - 0s 5ms/step - loss: 44.8789 - mean_absolute_error: 5.0677 - val_loss: 38.7028 - val_mean_absolute_error: 5.1172\n",
      "Epoch 83/100\n",
      "7/7 [==============================] - 0s 4ms/step - loss: 45.4805 - mean_absolute_error: 5.1151 - val_loss: 57.7170 - val_mean_absolute_error: 6.1037\n",
      "Epoch 84/100\n",
      "7/7 [==============================] - 0s 5ms/step - loss: 43.0201 - mean_absolute_error: 5.0349 - val_loss: 31.5730 - val_mean_absolute_error: 4.8250\n",
      "Epoch 85/100\n",
      "7/7 [==============================] - 0s 6ms/step - loss: 41.1960 - mean_absolute_error: 4.9731 - val_loss: 32.0394 - val_mean_absolute_error: 4.8325\n",
      "Epoch 86/100\n",
      "7/7 [==============================] - 0s 5ms/step - loss: 38.9590 - mean_absolute_error: 4.7217 - val_loss: 33.7652 - val_mean_absolute_error: 4.8687\n",
      "Epoch 87/100\n",
      "7/7 [==============================] - 0s 5ms/step - loss: 36.2048 - mean_absolute_error: 4.7917 - val_loss: 54.9889 - val_mean_absolute_error: 5.9868\n",
      "Epoch 88/100\n",
      "7/7 [==============================] - 0s 5ms/step - loss: 37.7077 - mean_absolute_error: 4.8972 - val_loss: 70.4876 - val_mean_absolute_error: 6.8073\n",
      "Epoch 89/100\n",
      "7/7 [==============================] - 0s 5ms/step - loss: 36.3732 - mean_absolute_error: 4.9128 - val_loss: 51.4433 - val_mean_absolute_error: 5.8307\n",
      "Epoch 90/100\n",
      "7/7 [==============================] - 0s 5ms/step - loss: 36.0498 - mean_absolute_error: 4.7594 - val_loss: 33.1203 - val_mean_absolute_error: 4.8183\n",
      "Epoch 91/100\n",
      "7/7 [==============================] - 0s 5ms/step - loss: 39.3590 - mean_absolute_error: 4.9584 - val_loss: 78.0469 - val_mean_absolute_error: 7.2167\n",
      "Epoch 92/100\n",
      "7/7 [==============================] - 0s 5ms/step - loss: 38.4620 - mean_absolute_error: 5.1781 - val_loss: 76.2244 - val_mean_absolute_error: 7.1117\n",
      "Epoch 93/100\n",
      "7/7 [==============================] - 0s 4ms/step - loss: 27.7150 - mean_absolute_error: 4.1486 - val_loss: 62.9412 - val_mean_absolute_error: 6.4159\n",
      "Epoch 94/100\n",
      "7/7 [==============================] - 0s 5ms/step - loss: 29.2909 - mean_absolute_error: 4.2556 - val_loss: 37.6787 - val_mean_absolute_error: 5.0249\n",
      "Epoch 95/100\n",
      "7/7 [==============================] - 0s 5ms/step - loss: 26.7152 - mean_absolute_error: 4.0154 - val_loss: 71.3128 - val_mean_absolute_error: 6.8600\n",
      "Epoch 96/100\n",
      "7/7 [==============================] - 0s 4ms/step - loss: 31.5475 - mean_absolute_error: 4.4943 - val_loss: 64.9529 - val_mean_absolute_error: 6.5315\n",
      "Epoch 97/100\n",
      "7/7 [==============================] - 0s 5ms/step - loss: 29.8336 - mean_absolute_error: 4.4115 - val_loss: 37.3390 - val_mean_absolute_error: 5.0413\n",
      "Epoch 98/100\n"
     ]
    },
    {
     "name": "stdout",
     "output_type": "stream",
     "text": [
      "7/7 [==============================] - 0s 4ms/step - loss: 40.3805 - mean_absolute_error: 5.2780 - val_loss: 65.6770 - val_mean_absolute_error: 6.5727\n",
      "Epoch 99/100\n",
      "7/7 [==============================] - 0s 5ms/step - loss: 31.3729 - mean_absolute_error: 4.5364 - val_loss: 99.9527 - val_mean_absolute_error: 8.4328\n",
      "Epoch 100/100\n",
      "7/7 [==============================] - 0s 5ms/step - loss: 31.8294 - mean_absolute_error: 4.5959 - val_loss: 47.2146 - val_mean_absolute_error: 5.6853\n"
     ]
    },
    {
     "data": {
      "text/plain": [
       "<keras.callbacks.History at 0x25dcb264fa0>"
      ]
     },
     "execution_count": 14,
     "metadata": {},
     "output_type": "execute_result"
    }
   ],
   "source": [
    "from tensorflow.keras.models import Sequential\n",
    "from tensorflow.keras.optimizers import Adam\n",
    "from tensorflow.keras import layers\n",
    "\n",
    "model = Sequential([layers.Input((3, 1)),\n",
    "                    layers.LSTM(64),\n",
    "                    layers.Dense(32, activation='relu'),\n",
    "                    layers.Dense(32, activation='relu'),\n",
    "                    layers.Dense(1)])\n",
    "\n",
    "model.compile(loss='mse', \n",
    "              optimizer=Adam(learning_rate=0.001),\n",
    "              metrics=['mean_absolute_error'])\n",
    "\n",
    "model.fit(X_train, y_train, validation_data=(X_val, y_val), epochs=100)"
   ]
  },
  {
   "cell_type": "code",
   "execution_count": 15,
   "id": "efa03f1b",
   "metadata": {},
   "outputs": [
    {
     "data": {
      "text/plain": [
       "<matplotlib.legend.Legend at 0x25dd04efe80>"
      ]
     },
     "execution_count": 15,
     "metadata": {},
     "output_type": "execute_result"
    },
    {
     "data": {
      "image/png": "[encoded data removed]",
      "text/plain": [
       "<Figure size 432x288 with 1 Axes>"
      ]
     },
     "metadata": {},
     "output_type": "display_data"
    }
   ],
   "source": [
    "train_predictions = model.predict(X_train).flatten()\n",
    "\n",
    "plt.plot(dates_train, train_predictions)\n",
    "plt.plot(dates_train, y_train)\n",
    "plt.legend(['Training Predictions', 'Training Observations'])"
   ]
  },
  {
   "cell_type": "code",
   "execution_count": 16,
   "id": "3d6ebf24",
   "metadata": {},
   "outputs": [
    {
     "data": {
      "text/plain": [
       "<matplotlib.legend.Legend at 0x25dd05a5af0>"
      ]
     },
     "execution_count": 16,
     "metadata": {},
     "output_type": "execute_result"
    },
    {
     "data": {
      "image/png": "[encoded data removed]",
      "text/plain": [
       "<Figure size 432x288 with 1 Axes>"
      ]
     },
     "metadata": {},
     "output_type": "display_data"
    }
   ],
   "source": [
    "val_predictions = model.predict(X_val).flatten()\n",
    "\n",
    "plt.plot(dates_val, val_predictions)\n",
    "plt.plot(dates_val, y_val)\n",
    "plt.legend(['Validation Predictions', 'Validation Observations'])"
   ]
  },
  {
   "cell_type": "code",
   "execution_count": 17,
   "id": "5e40fd37",
   "metadata": {},
   "outputs": [
    {
     "data": {
      "text/plain": [
       "<matplotlib.legend.Legend at 0x25dd024f310>"
      ]
     },
     "execution_count": 17,
     "metadata": {},
     "output_type": "execute_result"
    },
    {
     "data": {
      "image/png": "[encoded data removed]",
      "text/plain": [
       "<Figure size 432x288 with 1 Axes>"
      ]
     },
     "metadata": {},
     "output_type": "display_data"
    }
   ],
   "source": [
    "test_predictions = model.predict(X_test).flatten()\n",
    "\n",
    "plt.plot(dates_test, test_predictions)\n",
    "plt.plot(dates_test, y_test)\n",
    "plt.legend(['Testing Predictions', 'Testing Observations'])"
   ]
  },
  {
   "cell_type": "code",
   "execution_count": 18,
   "id": "515aa8fd",
   "metadata": {},
   "outputs": [
    {
     "data": {
      "text/plain": [
       "<matplotlib.legend.Legend at 0x25dcb233790>"
      ]
     },
     "execution_count": 18,
     "metadata": {},
     "output_type": "execute_result"
    },
    {
     "data": {
      "image/png": "[encoded data removed]",
      "text/plain": [
       "<Figure size 432x288 with 1 Axes>"
      ]
     },
     "metadata": {},
     "output_type": "display_data"
    }
   ],
   "source": [
    "plt.plot(dates_train, train_predictions)\n",
    "plt.plot(dates_train, y_train)\n",
    "plt.plot(dates_val, val_predictions)\n",
    "plt.plot(dates_val, y_val)\n",
    "plt.plot(dates_test, test_predictions)\n",
    "plt.plot(dates_test, y_test)\n",
    "plt.legend(['Training Predictions', \n",
    "            'Training Observations',\n",
    "            'Validation Predictions', \n",
    "            'Validation Observations',\n",
    "            'Testing Predictions', \n",
    "            'Testing Observations'])"
   ]
  },
  {
   "cell_type": "code",
   "execution_count": 19,
   "id": "9dbb6616",
   "metadata": {},
   "outputs": [],
   "source": [
    "from copy import deepcopy\n",
    "\n",
    "recursive_predictions = []\n",
    "recursive_dates = np.concatenate([dates_val, dates_test])\n",
    "\n",
    "for target_date in recursive_dates:\n",
    "  last_window = deepcopy(X_train[-1])\n",
    "  next_prediction = model.predict(np.array([last_window])).flatten()\n",
    "  recursive_predictions.append(next_prediction)\n",
    "  last_window[-1] = next_prediction"
   ]
  },
  {
   "cell_type": "code",
   "execution_count": 20,
   "id": "73bf9c91",
   "metadata": {},
   "outputs": [
    {
     "data": {
      "text/plain": [
       "<matplotlib.legend.Legend at 0x25dd0abc670>"
      ]
     },
     "execution_count": 20,
     "metadata": {},
     "output_type": "execute_result"
    },
    {
     "data": {
      "image/png": "[encoded data removed]",
      "text/plain": [
       "<Figure size 432x288 with 1 Axes>"
      ]
     },
     "metadata": {},
     "output_type": "display_data"
    }
   ],
   "source": [
    "plt.plot(dates_train, train_predictions)\n",
    "plt.plot(dates_train, y_train)\n",
    "plt.plot(dates_val, val_predictions)\n",
    "plt.plot(dates_val, y_val)\n",
    "plt.plot(dates_test, test_predictions)\n",
    "plt.plot(dates_test, y_test)\n",
    "plt.plot(recursive_dates, recursive_predictions)\n",
    "plt.legend(['Training Predictions', \n",
    "            'Training Observations',\n",
    "            'Validation Predictions', \n",
    "            'Validation Observations',\n",
    "            'Testing Predictions', \n",
    "            'Testing Observations',\n",
    "            'Recursive Predictions'])"
   ]
  },
  {
   "cell_type": "code",
   "execution_count": null,
   "id": "98fe40b6",
   "metadata": {},
   "outputs": [],
   "source": []
  }
 ],
 "metadata": {
  "kernelspec": {
   "display_name": "Python 3 (ipykernel)",
   "language": "python",
   "name": "python3"
  },
  "language_info": {
   "codemirror_mode": {
    "name": "ipython",
    "version": 3
   },
   "file_extension": ".py",
   "mimetype": "text/x-python",
   "name": "python",
   "nbconvert_exporter": "python",
   "pygments_lexer": "ipython3",
   "version": "3.9.12"
  }
 },
 "nbformat": 4,
 "nbformat_minor": 5
}
