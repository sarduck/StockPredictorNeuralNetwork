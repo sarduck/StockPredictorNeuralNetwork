{
 "cells": [
  {
   "cell_type": "code",
   "execution_count": 3,
   "id": "bde8e30f",
   "metadata": {},
   "outputs": [],
   "source": [
    "#Import libraries \n",
    "import yfinance as yf\n",
    "import os\n",
    "import numpy as np \n",
    "import pandas as pd \n",
    "import matplotlib.pyplot as plt \n",
    "%matplotlib inline"
   ]
  },
  {
   "cell_type": "code",
   "execution_count": 4,
   "id": "76dc6937",
   "metadata": {},
   "outputs": [
    {
     "name": "stdout",
     "output_type": "stream",
     "text": [
      "[*********************100%***********************]  1 of 1 completed\n"
     ]
    }
   ],
   "source": [
    "sp500_data = yf.download(\"^GSPC\", start=\"2017-01-01\", end=\"2022-10-16\")\n",
    "sp500_df = pd.DataFrame(sp500_data)\n",
    "sp500_df.to_csv(\"sp500_data.csv\")"
   ]
  },
  {
   "cell_type": "code",
   "execution_count": 5,
   "id": "db26c245",
   "metadata": {},
   "outputs": [
    {
     "data": {
      "text/html": [
       "<div>\n",
       "<style scoped>\n",
       "    .dataframe tbody tr th:only-of-type {\n",
       "        vertical-align: middle;\n",
       "    }\n",
       "\n",
       "    .dataframe tbody tr th {\n",
       "        vertical-align: top;\n",
       "    }\n",
       "\n",
       "    .dataframe thead th {\n",
       "        text-align: right;\n",
       "    }\n",
       "</style>\n",
       "<table border=\"1\" class=\"dataframe\">\n",
       "  <thead>\n",
       "    <tr style=\"text-align: right;\">\n",
       "      <th></th>\n",
       "      <th>Date</th>\n",
       "      <th>Open</th>\n",
       "      <th>High</th>\n",
       "      <th>Low</th>\n",
       "      <th>Close</th>\n",
       "      <th>Adj Close</th>\n",
       "      <th>Volume</th>\n",
       "    </tr>\n",
       "  </thead>\n",
       "  <tbody>\n",
       "    <tr>\n",
       "      <th>0</th>\n",
       "      <td>2017-01-03</td>\n",
       "      <td>2251.570068</td>\n",
       "      <td>2263.879883</td>\n",
       "      <td>2245.129883</td>\n",
       "      <td>2257.830078</td>\n",
       "      <td>2257.830078</td>\n",
       "      <td>3773010000</td>\n",
       "    </tr>\n",
       "    <tr>\n",
       "      <th>1</th>\n",
       "      <td>2017-01-04</td>\n",
       "      <td>2261.600098</td>\n",
       "      <td>2272.820068</td>\n",
       "      <td>2261.600098</td>\n",
       "      <td>2270.750000</td>\n",
       "      <td>2270.750000</td>\n",
       "      <td>3768890000</td>\n",
       "    </tr>\n",
       "    <tr>\n",
       "      <th>2</th>\n",
       "      <td>2017-01-05</td>\n",
       "      <td>2268.179932</td>\n",
       "      <td>2271.500000</td>\n",
       "      <td>2260.449951</td>\n",
       "      <td>2269.000000</td>\n",
       "      <td>2269.000000</td>\n",
       "      <td>3785080000</td>\n",
       "    </tr>\n",
       "    <tr>\n",
       "      <th>3</th>\n",
       "      <td>2017-01-06</td>\n",
       "      <td>2271.139893</td>\n",
       "      <td>2282.100098</td>\n",
       "      <td>2264.060059</td>\n",
       "      <td>2276.979980</td>\n",
       "      <td>2276.979980</td>\n",
       "      <td>3342080000</td>\n",
       "    </tr>\n",
       "    <tr>\n",
       "      <th>4</th>\n",
       "      <td>2017-01-09</td>\n",
       "      <td>2273.590088</td>\n",
       "      <td>2275.489990</td>\n",
       "      <td>2268.899902</td>\n",
       "      <td>2268.899902</td>\n",
       "      <td>2268.899902</td>\n",
       "      <td>3219730000</td>\n",
       "    </tr>\n",
       "  </tbody>\n",
       "</table>\n",
       "</div>"
      ],
      "text/plain": [
       "         Date         Open         High          Low        Close  \\\n",
       "0  2017-01-03  2251.570068  2263.879883  2245.129883  2257.830078   \n",
       "1  2017-01-04  2261.600098  2272.820068  2261.600098  2270.750000   \n",
       "2  2017-01-05  2268.179932  2271.500000  2260.449951  2269.000000   \n",
       "3  2017-01-06  2271.139893  2282.100098  2264.060059  2276.979980   \n",
       "4  2017-01-09  2273.590088  2275.489990  2268.899902  2268.899902   \n",
       "\n",
       "     Adj Close      Volume  \n",
       "0  2257.830078  3773010000  \n",
       "1  2270.750000  3768890000  \n",
       "2  2269.000000  3785080000  \n",
       "3  2276.979980  3342080000  \n",
       "4  2268.899902  3219730000  "
      ]
     },
     "execution_count": 5,
     "metadata": {},
     "output_type": "execute_result"
    }
   ],
   "source": [
    "dataset_train = pd.read_csv(\"sp500_data.csv\")\n",
    "dataset_train.head()"
   ]
  },
  {
   "cell_type": "code",
   "execution_count": 6,
   "id": "64e8eee0",
   "metadata": {},
   "outputs": [
    {
     "name": "stdout",
     "output_type": "stream",
     "text": [
      "[[2251.57006836]\n",
      " [2261.60009766]\n",
      " [2268.17993164]\n",
      " ...\n",
      " [3590.83007812]\n",
      " [3520.37011719]\n",
      " [3690.40991211]]\n",
      "(1457, 1)\n"
     ]
    }
   ],
   "source": [
    "training_set = dataset_train.iloc[:,1:2].values\n",
    "print(training_set)\n",
    "print(training_set.shape)"
   ]
  },
  {
   "cell_type": "code",
   "execution_count": 7,
   "id": "f86c55cf",
   "metadata": {},
   "outputs": [
    {
     "data": {
      "text/plain": [
       "array([[0.        ],\n",
       "       [0.00392882],\n",
       "       [0.00650617],\n",
       "       ...,\n",
       "       [0.52459524],\n",
       "       [0.4969957 ],\n",
       "       [0.56360119]])"
      ]
     },
     "execution_count": 7,
     "metadata": {},
     "output_type": "execute_result"
    }
   ],
   "source": [
    "from sklearn.preprocessing import MinMaxScaler \n",
    "\n",
    "scaler = MinMaxScaler(feature_range = (0,1)) \n",
    "scaled_training_set = scaler.fit_transform(training_set)\n",
    "scaled_training_set "
   ]
  },
  {
   "cell_type": "code",
   "execution_count": 8,
   "id": "e9403b18",
   "metadata": {},
   "outputs": [],
   "source": [
    "X_train = []\n",
    "\n",
    "y_train = []\n",
    "\n",
    "for i in range(60,1258):\n",
    "    X_train.append(scaled_training_set[i-60:i, 0])\n",
    "    y_train.append(scaled_training_set[i, 0])\n",
    "\n",
    "X_train = np.array(X_train)\n",
    "y_train = np.array(y_train)"
   ]
  },
  {
   "cell_type": "code",
   "execution_count": 9,
   "id": "f53642b0",
   "metadata": {},
   "outputs": [
    {
     "name": "stdout",
     "output_type": "stream",
     "text": [
      "(1198, 60)\n",
      "(1198,)\n"
     ]
    }
   ],
   "source": [
    "print(X_train.shape)\n",
    "print(y_train.shape)"
   ]
  },
  {
   "cell_type": "code",
   "execution_count": 10,
   "id": "b745aa11",
   "metadata": {},
   "outputs": [
    {
     "data": {
      "text/plain": [
       "(1198, 60, 1)"
      ]
     },
     "execution_count": 10,
     "metadata": {},
     "output_type": "execute_result"
    }
   ],
   "source": [
    "X_train = np.reshape(X_train, (X_train.shape[0], X_train.shape[1], 1)) \n",
    "X_train.shape "
   ]
  },
  {
   "cell_type": "code",
   "execution_count": 11,
   "id": "5a6544ed",
   "metadata": {},
   "outputs": [],
   "source": [
    "from keras.models import Sequential\n",
    "from keras.layers import LSTM\n",
    "from keras.layers import Dense\n",
    "from keras.layers import Dropout"
   ]
  },
  {
   "cell_type": "code",
   "execution_count": 14,
   "id": "15f7a7dc",
   "metadata": {},
   "outputs": [],
   "source": [
    "regressor = Sequential()\n",
    "\n",
    "regressor.add(LSTM(units = 50, return_sequences= True, input_shape = (X_train.shape[1], 1)))\n",
    "regressor.add(Dropout(0.2))\n",
    "\n",
    "regressor.add(LSTM(units = 50, return_sequences= True)) \n",
    "regressor.add(Dropout(0.2))\n",
    "\n",
    "regressor.add(LSTM(units = 50, return_sequences= True)) \n",
    "regressor.add(Dropout(0.2))\n",
    "\n",
    "regressor.add(LSTM(units = 50)) \n",
    "regressor.add(Dropout (0.2))\n",
    "              \n",
    "regressor.add(Dense(units=1)) "
   ]
  },
  {
   "cell_type": "code",
   "execution_count": 15,
   "id": "0fe7e844",
   "metadata": {},
   "outputs": [
    {
     "name": "stdout",
     "output_type": "stream",
     "text": [
      "Epoch 1/100\n",
      "38/38 [==============================] - 7s 48ms/step - loss: 0.0306\n",
      "Epoch 2/100\n",
      "38/38 [==============================] - 2s 48ms/step - loss: 0.0043\n",
      "Epoch 3/100\n",
      "38/38 [==============================] - 2s 47ms/step - loss: 0.0039\n",
      "Epoch 4/100\n",
      "38/38 [==============================] - 2s 47ms/step - loss: 0.0039\n",
      "Epoch 5/100\n",
      "38/38 [==============================] - 2s 46ms/step - loss: 0.0034\n",
      "Epoch 6/100\n",
      "38/38 [==============================] - 2s 47ms/step - loss: 0.0035\n",
      "Epoch 7/100\n",
      "38/38 [==============================] - 2s 45ms/step - loss: 0.0035\n",
      "Epoch 8/100\n",
      "38/38 [==============================] - 2s 45ms/step - loss: 0.0032\n",
      "Epoch 9/100\n",
      "38/38 [==============================] - 2s 46ms/step - loss: 0.0031\n",
      "Epoch 10/100\n",
      "38/38 [==============================] - 2s 48ms/step - loss: 0.0030\n",
      "Epoch 11/100\n",
      "38/38 [==============================] - 2s 48ms/step - loss: 0.0032\n",
      "Epoch 12/100\n",
      "38/38 [==============================] - 2s 48ms/step - loss: 0.0031\n",
      "Epoch 13/100\n",
      "38/38 [==============================] - 2s 46ms/step - loss: 0.0025\n",
      "Epoch 14/100\n",
      "38/38 [==============================] - 2s 46ms/step - loss: 0.0024\n",
      "Epoch 15/100\n",
      "38/38 [==============================] - 2s 47ms/step - loss: 0.0024\n",
      "Epoch 16/100\n",
      "38/38 [==============================] - 2s 47ms/step - loss: 0.0023\n",
      "Epoch 17/100\n",
      "38/38 [==============================] - 2s 46ms/step - loss: 0.0024\n",
      "Epoch 18/100\n",
      "38/38 [==============================] - 2s 48ms/step - loss: 0.0023\n",
      "Epoch 19/100\n",
      "38/38 [==============================] - 2s 46ms/step - loss: 0.0021\n",
      "Epoch 20/100\n",
      "38/38 [==============================] - 2s 46ms/step - loss: 0.0021\n",
      "Epoch 21/100\n",
      "38/38 [==============================] - 2s 48ms/step - loss: 0.0019\n",
      "Epoch 22/100\n",
      "38/38 [==============================] - 2s 46ms/step - loss: 0.0019\n",
      "Epoch 23/100\n",
      "38/38 [==============================] - 2s 49ms/step - loss: 0.0021\n",
      "Epoch 24/100\n",
      "38/38 [==============================] - 2s 48ms/step - loss: 0.0020\n",
      "Epoch 25/100\n",
      "38/38 [==============================] - 2s 47ms/step - loss: 0.0020\n",
      "Epoch 26/100\n",
      "38/38 [==============================] - 2s 47ms/step - loss: 0.0017\n",
      "Epoch 27/100\n",
      "38/38 [==============================] - 2s 49ms/step - loss: 0.0019\n",
      "Epoch 28/100\n",
      "38/38 [==============================] - 2s 48ms/step - loss: 0.0018\n",
      "Epoch 29/100\n",
      "38/38 [==============================] - 2s 47ms/step - loss: 0.0019\n",
      "Epoch 30/100\n",
      "38/38 [==============================] - 2s 48ms/step - loss: 0.0019\n",
      "Epoch 31/100\n",
      "38/38 [==============================] - 2s 47ms/step - loss: 0.0017\n",
      "Epoch 32/100\n",
      "38/38 [==============================] - 2s 46ms/step - loss: 0.0018\n",
      "Epoch 33/100\n",
      "38/38 [==============================] - 2s 47ms/step - loss: 0.0022\n",
      "Epoch 34/100\n",
      "38/38 [==============================] - 2s 48ms/step - loss: 0.0017\n",
      "Epoch 35/100\n",
      "38/38 [==============================] - 2s 48ms/step - loss: 0.0017\n",
      "Epoch 36/100\n",
      "38/38 [==============================] - 2s 47ms/step - loss: 0.0018\n",
      "Epoch 37/100\n",
      "38/38 [==============================] - 2s 48ms/step - loss: 0.0016\n",
      "Epoch 38/100\n",
      "38/38 [==============================] - 2s 50ms/step - loss: 0.0016\n",
      "Epoch 39/100\n",
      "38/38 [==============================] - 2s 48ms/step - loss: 0.0017\n",
      "Epoch 40/100\n",
      "38/38 [==============================] - 2s 49ms/step - loss: 0.0019\n",
      "Epoch 41/100\n",
      "38/38 [==============================] - 2s 47ms/step - loss: 0.0016\n",
      "Epoch 42/100\n",
      "38/38 [==============================] - 2s 46ms/step - loss: 0.0014\n",
      "Epoch 43/100\n",
      "38/38 [==============================] - 2s 46ms/step - loss: 0.0015\n",
      "Epoch 44/100\n",
      "38/38 [==============================] - 2s 48ms/step - loss: 0.0015\n",
      "Epoch 45/100\n",
      "38/38 [==============================] - 2s 46ms/step - loss: 0.0015\n",
      "Epoch 46/100\n",
      "38/38 [==============================] - 2s 45ms/step - loss: 0.0015\n",
      "Epoch 47/100\n",
      "38/38 [==============================] - 2s 46ms/step - loss: 0.0016\n",
      "Epoch 48/100\n",
      "38/38 [==============================] - 2s 47ms/step - loss: 0.0017\n",
      "Epoch 49/100\n",
      "38/38 [==============================] - 2s 46ms/step - loss: 0.0015\n",
      "Epoch 50/100\n",
      "38/38 [==============================] - 2s 46ms/step - loss: 0.0014\n",
      "Epoch 51/100\n",
      "38/38 [==============================] - 2s 46ms/step - loss: 0.0014\n",
      "Epoch 52/100\n",
      "38/38 [==============================] - 2s 47ms/step - loss: 0.0015\n",
      "Epoch 53/100\n",
      "38/38 [==============================] - 2s 45ms/step - loss: 0.0013\n",
      "Epoch 54/100\n",
      "38/38 [==============================] - 2s 46ms/step - loss: 0.0014\n",
      "Epoch 55/100\n",
      "38/38 [==============================] - 2s 45ms/step - loss: 0.0015\n",
      "Epoch 56/100\n",
      "38/38 [==============================] - 2s 48ms/step - loss: 0.0013\n",
      "Epoch 57/100\n",
      "38/38 [==============================] - 2s 46ms/step - loss: 0.0013\n",
      "Epoch 58/100\n",
      "38/38 [==============================] - 2s 47ms/step - loss: 0.0013\n",
      "Epoch 59/100\n",
      "38/38 [==============================] - 2s 46ms/step - loss: 0.0014\n",
      "Epoch 60/100\n",
      "38/38 [==============================] - 2s 45ms/step - loss: 0.0013\n",
      "Epoch 61/100\n",
      "38/38 [==============================] - 2s 45ms/step - loss: 0.0013\n",
      "Epoch 62/100\n",
      "38/38 [==============================] - 2s 46ms/step - loss: 0.0012\n",
      "Epoch 63/100\n",
      "38/38 [==============================] - 2s 47ms/step - loss: 0.0013\n",
      "Epoch 64/100\n",
      "38/38 [==============================] - 2s 47ms/step - loss: 0.0013\n",
      "Epoch 65/100\n",
      "38/38 [==============================] - 2s 46ms/step - loss: 0.0014\n",
      "Epoch 66/100\n",
      "38/38 [==============================] - 2s 46ms/step - loss: 0.0012\n",
      "Epoch 67/100\n",
      "38/38 [==============================] - 2s 46ms/step - loss: 0.0014\n",
      "Epoch 68/100\n",
      "38/38 [==============================] - 2s 48ms/step - loss: 0.0012\n",
      "Epoch 69/100\n",
      "38/38 [==============================] - 2s 47ms/step - loss: 0.0011\n",
      "Epoch 70/100\n",
      "38/38 [==============================] - 2s 45ms/step - loss: 0.0011\n",
      "Epoch 71/100\n",
      "38/38 [==============================] - 2s 46ms/step - loss: 0.0011\n",
      "Epoch 72/100\n",
      "38/38 [==============================] - 2s 45ms/step - loss: 0.0012\n",
      "Epoch 73/100\n",
      "38/38 [==============================] - 2s 46ms/step - loss: 0.0011\n",
      "Epoch 74/100\n",
      "38/38 [==============================] - 2s 46ms/step - loss: 0.0013\n",
      "Epoch 75/100\n",
      "38/38 [==============================] - 2s 47ms/step - loss: 0.0012\n",
      "Epoch 76/100\n",
      "38/38 [==============================] - 2s 44ms/step - loss: 0.0011\n",
      "Epoch 77/100\n",
      "38/38 [==============================] - 2s 45ms/step - loss: 0.0011\n",
      "Epoch 78/100\n",
      "38/38 [==============================] - 2s 46ms/step - loss: 0.0011\n",
      "Epoch 79/100\n",
      "38/38 [==============================] - 2s 46ms/step - loss: 0.0012\n",
      "Epoch 80/100\n",
      "38/38 [==============================] - 2s 45ms/step - loss: 0.0010\n",
      "Epoch 81/100\n",
      "38/38 [==============================] - 2s 46ms/step - loss: 0.0012\n",
      "Epoch 82/100\n",
      "38/38 [==============================] - 2s 46ms/step - loss: 0.0012\n",
      "Epoch 83/100\n",
      "38/38 [==============================] - 2s 46ms/step - loss: 0.0010\n",
      "Epoch 84/100\n",
      "38/38 [==============================] - 2s 47ms/step - loss: 0.0012\n",
      "Epoch 85/100\n",
      "38/38 [==============================] - 2s 46ms/step - loss: 0.0013\n",
      "Epoch 86/100\n",
      "38/38 [==============================] - 2s 46ms/step - loss: 9.9112e-04\n",
      "Epoch 87/100\n",
      "38/38 [==============================] - 2s 45ms/step - loss: 0.0013\n",
      "Epoch 88/100\n",
      "38/38 [==============================] - 2s 46ms/step - loss: 9.4208e-04\n",
      "Epoch 89/100\n",
      "38/38 [==============================] - 2s 48ms/step - loss: 0.0012\n",
      "Epoch 90/100\n",
      "38/38 [==============================] - 2s 52ms/step - loss: 0.0011\n",
      "Epoch 91/100\n",
      "38/38 [==============================] - 2s 48ms/step - loss: 0.0011\n",
      "Epoch 92/100\n",
      "38/38 [==============================] - 2s 50ms/step - loss: 0.0011\n",
      "Epoch 93/100\n",
      "38/38 [==============================] - 2s 49ms/step - loss: 9.3322e-04\n",
      "Epoch 94/100\n",
      "38/38 [==============================] - 2s 48ms/step - loss: 0.0010\n",
      "Epoch 95/100\n",
      "38/38 [==============================] - 2s 46ms/step - loss: 9.7151e-04\n",
      "Epoch 96/100\n",
      "38/38 [==============================] - 2s 49ms/step - loss: 0.0010\n",
      "Epoch 97/100\n",
      "38/38 [==============================] - 2s 46ms/step - loss: 8.6272e-04\n",
      "Epoch 98/100\n",
      "38/38 [==============================] - 2s 47ms/step - loss: 0.0011\n",
      "Epoch 99/100\n",
      "38/38 [==============================] - 2s 49ms/step - loss: 9.0312e-04\n",
      "Epoch 100/100\n"
     ]
    },
    {
     "name": "stdout",
     "output_type": "stream",
     "text": [
      "38/38 [==============================] - 2s 48ms/step - loss: 8.8513e-04\n"
     ]
    },
    {
     "data": {
      "text/plain": [
       "<keras.callbacks.History at 0x29c35460700>"
      ]
     },
     "execution_count": 15,
     "metadata": {},
     "output_type": "execute_result"
    }
   ],
   "source": [
    "regressor.compile(optimizer = 'adam', loss = 'mean_squared_error')\n",
    "regressor.fit(X_train, y_train, epochs=100, batch_size=32)"
   ]
  },
  {
   "cell_type": "code",
   "execution_count": 16,
   "id": "9812b9f3",
   "metadata": {},
   "outputs": [
    {
     "name": "stdout",
     "output_type": "stream",
     "text": [
      "[*********************100%***********************]  1 of 1 completed\n"
     ]
    }
   ],
   "source": [
    "sp500_data_test = yf.download(\"^GSPC\", start=\"2022-10-16\", end=\"2023-3-22\")\n",
    "sp500_df_test = pd.DataFrame(sp500_data)\n",
    "sp500_df_test.to_csv(\"sp500_data_test.csv\")"
   ]
  },
  {
   "cell_type": "code",
   "execution_count": 18,
   "id": "8910b3c8",
   "metadata": {
    "scrolled": true
   },
   "outputs": [],
   "source": [
    "dataset_test = pd.read_csv(\"sp500_data_test.csv\") \n",
    "actual_stock_price = dataset_test.iloc[:,1:2].values "
   ]
  },
  {
   "cell_type": "code",
   "execution_count": 21,
   "id": "a82229be",
   "metadata": {},
   "outputs": [],
   "source": [
    "dataset_total = pd.concat((dataset_train['Open'], dataset_test['Open']), axis = 0)\n",
    "inputs = dataset_total[len(dataset_total)- len(dataset_test)-60:].values\n",
    "\n",
    "inputs = inputs.reshape(-1,1)\n",
    "inputs = scaler.transform(inputs)\n",
    "\n",
    "X_test = []\n",
    "for i in range(60,80):\n",
    "    X_test.append(inputs[i-60:i, 0])\n",
    "X_test = np.array(X_test)\n",
    "X_test = np.reshape(X_test, (X_test.shape[0], X_test.shape[1], 1))"
   ]
  },
  {
   "cell_type": "code",
   "execution_count": 22,
   "id": "2d813abd",
   "metadata": {},
   "outputs": [],
   "source": [
    "predicted_stock_price = regressor.predict(X_test)\n",
    "predicted_stock_price = scaler.inverse_transform(predicted_stock_price)"
   ]
  },
  {
   "cell_type": "code",
   "execution_count": 26,
   "id": "80c4194e",
   "metadata": {},
   "outputs": [
    {
     "data": {
      "text/plain": [
       "<matplotlib.legend.Legend at 0x29c46391190>"
      ]
     },
     "execution_count": 26,
     "metadata": {},
     "output_type": "execute_result"
    },
    {
     "data": {
      "image/png": "[encoded data removed]",
      "text/plain": [
       "<Figure size 432x288 with 1 Axes>"
      ]
     },
     "metadata": {
      "needs_background": "light"
     },
     "output_type": "display_data"
    }
   ],
   "source": [
    "plt.plot(actual_stock_price, color = 'red', label = 'Actual SP500 Stock Price') \n",
    "plt.plot(predicted_stock_price, color = 'blue', label = 'Predicted SP500 Stock Price')\n",
    "plt.title('SP500 Stock Price Prediction')\n",
    "plt.xlabel('Time') \n",
    "plt.ylabel('SP500 Stock Price')\n",
    "plt.legend() "
   ]
  },
  {
   "cell_type": "code",
   "execution_count": null,
   "id": "68e2731f",
   "metadata": {},
   "outputs": [],
   "source": []
  }
 ],
 "metadata": {
  "kernelspec": {
   "display_name": "Python 3 (ipykernel)",
   "language": "python",
   "name": "python3"
  },
  "language_info": {
   "codemirror_mode": {
    "name": "ipython",
    "version": 3
   },
   "file_extension": ".py",
   "mimetype": "text/x-python",
   "name": "python",
   "nbconvert_exporter": "python",
   "pygments_lexer": "ipython3",
   "version": "3.9.12"
  }
 },
 "nbformat": 4,
 "nbformat_minor": 5
}
